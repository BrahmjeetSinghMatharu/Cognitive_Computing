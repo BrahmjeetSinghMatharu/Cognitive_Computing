{
  "nbformat": 4,
  "nbformat_minor": 0,
  "metadata": {
    "colab": {
      "provenance": []
    },
    "kernelspec": {
      "name": "python3",
      "display_name": "Python 3"
    },
    "language_info": {
      "name": "python"
    }
  },
  "cells": [
    {
      "cell_type": "markdown",
      "source": [],
      "metadata": {
        "id": "OQ-E8llGjrbt"
      }
    },
    {
      "cell_type": "code",
      "source": [
        "# Q.1 Write a program to create a NumPy 1D-array with 5 elements and perform basic operations like:\n",
        "\n",
        "import numpy as np\n",
        "\n",
        "# a) Addition of 2 in all the element\n",
        "\n",
        "\n",
        "array = np.array([6, 10, 14, 16, 20])\n",
        "print(\"After Adding 2 : \",array+2)\n",
        "\n",
        "# b) Multiply 3 with all the elements\n",
        "\n",
        "\n",
        "print(\"After Multiplying by 3 : \",array*3)\n",
        "\n",
        "# c) Divide every element by 2\n",
        "\n",
        "\n",
        "print(\"After Dividing by 2 : \",array/2)"
      ],
      "metadata": {
        "id": "tnVLx-Stjvx0",
        "colab": {
          "base_uri": "https://localhost:8080/"
        },
        "outputId": "8d2580f8-bafe-4be7-f78a-314940880a5a"
      },
      "execution_count": 6,
      "outputs": [
        {
          "output_type": "stream",
          "name": "stdout",
          "text": [
            "After Adding 2 :  [ 8 12 16 18 22]\n",
            "After Multiplying by 3 :  [18 30 42 48 60]\n",
            "After Dividing by 2 :  [ 3.  5.  7.  8. 10.]\n"
          ]
        }
      ]
    },
    {
      "cell_type": "code",
      "source": [
        "# Q2 Questions on Basic NumPy Array:\n",
        "\n",
        "# a) Reverse the NumPy array: arr = np.array([1, 2, 3, 6, 4, 5])\n",
        "\n",
        "arr = np.array([1,2,3,6,4,5])\n",
        "arr[::-1]\n",
        "\n",
        "# b) Find the most frequent value and their indice(s) in the following arrays: i. x = np.array([1,2,3,4,5,1,2,1,1,1]) ii. y = np.array([1, 1, 1, 2, 3, 4, 2, 4, 3, 3, ])\n",
        "\n",
        "# i. x = np.array([1,2,3,4,5,1,2,1,1,1])\n",
        "\n",
        "x = np.array([1,2,3,4,5,1,2,1,1,1])\n",
        "y = np.array([1, 1, 1, 2, 3, 4, 2, 4, 3, 3])\n",
        "a,b = np.unique(x, return_counts=True)\n",
        "elementx = (a[np.argmax(b)])\n",
        "indexx = np.where(x == elementx)\n",
        "print(\"Max occurrence is of : \",elementx)\n",
        "print(\"Indices : \",indexx[0])\n",
        "\n",
        "# ii. y = np.array([1, 1, 1, 2, 3, 4, 2, 4, 3, 3, ])\n",
        "\n",
        "c,d = np.unique(y, return_counts=True)\n",
        "elementy = (c[np.argmax(d)])\n",
        "indexy = np.where(y == elementy)\n",
        "print(\"Max occurrence is of : \",elementy)\n",
        "print(\"Indices : \",indexy[0])"
      ],
      "metadata": {
        "colab": {
          "base_uri": "https://localhost:8080/"
        },
        "id": "dXy6sC3ekrvV",
        "outputId": "3ce57b3b-d6de-4434-a35a-e93de32e1a8e"
      },
      "execution_count": 2,
      "outputs": [
        {
          "output_type": "stream",
          "name": "stdout",
          "text": [
            "Max occurrence is of :  1\n",
            "Indices :  [0 5 7 8 9]\n",
            "Max occurrence is of :  1\n",
            "Indices :  [0 1 2]\n"
          ]
        }
      ]
    },
    {
      "cell_type": "code",
      "source": [
        "# Q.3 For the given 2-D array arr=np.array([10, 20, 30], [40, 50, 60], [70, 80, 90]), access elements using row and column indices as follows: a) Access 1st row, 2nd column b) Access 3rd row, 1st column\n",
        "\n",
        "\n",
        "arr3 = np.array([[10,20,30],[40,50,60],[70,80,90]])\n",
        "\n",
        "# a) Access 1st row, 2nd column\n",
        "\n",
        "print(\"1st Row 2nd Col : \",arr3[0,1])\n",
        "\n",
        "\n",
        "# b) Access 3rd row, 1st column\n",
        "\n",
        "print(\"3rd Row 1st Col : \",arr3[2,0])"
      ],
      "metadata": {
        "colab": {
          "base_uri": "https://localhost:8080/"
        },
        "id": "8qBgEJdflPH5",
        "outputId": "65674659-6d31-4dd6-e4ae-24b27e0b0bfb"
      },
      "execution_count": 3,
      "outputs": [
        {
          "output_type": "stream",
          "name": "stdout",
          "text": [
            "1st Row 2nd Col :  20\n",
            "3rd Row 1st Col :  70\n"
          ]
        }
      ]
    },
    {
      "cell_type": "code",
      "source": [
        "# Q.4 Write program to create an 1-D NumPy array named YourName with evenly spaced 25 numbers from 10 to 100 using linspace(). Print the dimensions of the array, shape, total elements, the data type of each element and total number of bytes consumed by the array. Find the transpose of this array using reshape() attribute. Can we do the same with T attribute?\n",
        "\n",
        "brahmjeet = np.linspace(10,100,25)\n",
        "print(\"Dimension : \",brahmjeet.ndim)\n",
        "print(\"Shape : \",brahmjeet.shape)\n",
        "print(\"Total Elements : \",brahmjeet.size)\n",
        "print(\"Data Type : \",brahmjeet.dtype)\n",
        "print(\"Total Bytes : \",brahmjeet.nbytes)\n",
        "print(\"Transpose using reshape :\",brahmjeet.reshape(25,1))\n",
        "print(\"Transpose using T : \",brahmjeet.T)"
      ],
      "metadata": {
        "colab": {
          "base_uri": "https://localhost:8080/"
        },
        "id": "0kjyMhEVlWSu",
        "outputId": "9079659d-1a16-4c9d-9655-1a4b9b7db36f"
      },
      "execution_count": 4,
      "outputs": [
        {
          "output_type": "stream",
          "name": "stdout",
          "text": [
            "Dimension :  1\n",
            "Shape :  (25,)\n",
            "Total Elements :  25\n",
            "Data Type :  float64\n",
            "Total Bytes :  200\n",
            "Transpose using reshape : [[ 10.  ]\n",
            " [ 13.75]\n",
            " [ 17.5 ]\n",
            " [ 21.25]\n",
            " [ 25.  ]\n",
            " [ 28.75]\n",
            " [ 32.5 ]\n",
            " [ 36.25]\n",
            " [ 40.  ]\n",
            " [ 43.75]\n",
            " [ 47.5 ]\n",
            " [ 51.25]\n",
            " [ 55.  ]\n",
            " [ 58.75]\n",
            " [ 62.5 ]\n",
            " [ 66.25]\n",
            " [ 70.  ]\n",
            " [ 73.75]\n",
            " [ 77.5 ]\n",
            " [ 81.25]\n",
            " [ 85.  ]\n",
            " [ 88.75]\n",
            " [ 92.5 ]\n",
            " [ 96.25]\n",
            " [100.  ]]\n",
            "Transpose using T :  [ 10.    13.75  17.5   21.25  25.    28.75  32.5   36.25  40.    43.75\n",
            "  47.5   51.25  55.    58.75  62.5   66.25  70.    73.75  77.5   81.25\n",
            "  85.    88.75  92.5   96.25 100.  ]\n"
          ]
        }
      ]
    },
    {
      "cell_type": "code",
      "source": [
        "#  Q5. Create a 2-D Array of three rows and four columns, named ucs420_yourname with following values – 10, 20, 30, 40, 50, 60, 70, 80, 90, 15, 20, 35. Compute the mean, median, max, min, unique elements. Reshape the array to four rows and three columns and name it as reshaped_ ucs420_yourname. Resize the array to two rows and three columns and name it as resized_ ucs420_yourname\n",
        "\n",
        "\n",
        "ucs420_brahmjeet = np.array([10,20,30,40,50,60,70,80,90,15,20,35])\n",
        "print(\"Mean : \",np.mean(ucs420_brahmjeet))\n",
        "print(\"Median : \",np.median(ucs420_brahmjeet))\n",
        "print(\"Max : \",np.max(ucs420_brahmjeet))\n",
        "print(\"Min : \",np.min(ucs420_brahmjeet))\n",
        "print(\"Unique : \",np.unique(ucs420_brahmjeet))\n",
        "reshaped_ucs420_brahmjeet = ucs420_brahmjeet.reshape(4,3)\n",
        "print(\"Reshaped : \",reshaped_ucs420_brahmjeet)\n",
        "resized_ucs420_brahmjeet = np.resize(ucs420_brahmjeet,(2,3))\n",
        "print(\"Resized : \",resized_ucs420_brahmjeet)"
      ],
      "metadata": {
        "colab": {
          "base_uri": "https://localhost:8080/"
        },
        "id": "OEipNKuTljIG",
        "outputId": "a1a63021-2e73-42a6-a344-33a31ce7a94d"
      },
      "execution_count": 5,
      "outputs": [
        {
          "output_type": "stream",
          "name": "stdout",
          "text": [
            "Mean :  43.333333333333336\n",
            "Median :  37.5\n",
            "Max :  90\n",
            "Min :  10\n",
            "Unique :  [10 15 20 30 35 40 50 60 70 80 90]\n",
            "Reshaped :  [[10 20 30]\n",
            " [40 50 60]\n",
            " [70 80 90]\n",
            " [15 20 35]]\n",
            "Resized :  [[10 20 30]\n",
            " [40 50 60]]\n"
          ]
        }
      ]
    }
  ]
}